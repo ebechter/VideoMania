{
 "cells": [
  {
   "cell_type": "code",
   "execution_count": 35,
   "metadata": {},
   "outputs": [],
   "source": [
    "import numpy as np # linear algebra\n",
    "import pandas as pd # data processing, CSV file I/O (e.g. pd.read_csv)import pandas as pd  \n",
    "import matplotlib\n",
    "import matplotlib.pyplot as plt\n",
    "\n"
   ]
  },
  {
   "cell_type": "code",
   "execution_count": 36,
   "metadata": {},
   "outputs": [
    {
     "data": {
      "image/png": "[encoded data removed]",
      "text/plain": [
       "<Figure size 432x288 with 1 Axes>"
      ]
     },
     "metadata": {},
     "output_type": "display_data"
    }
   ],
   "source": [
    "df = pd.read_csv(\"steam-200k.csv\")\n",
    "df.columns = [\"user_id\",\"game\",\"activity\",\"hours\",\"unkknown\"]\n",
    "\n",
    "df_users = df[[\"user_id\",\"game\"]][df[\"activity\"]==\"play\"].groupby(\"user_id\", axis = 0).count().reset_index()\n",
    "df_users[\"game\"][df_users[\"game\"]<3].hist()\n",
    "plt.title(\"How many different games are played by how many users?\")\n",
    "plt.show()"
   ]
  },
  {
   "cell_type": "code",
   "execution_count": 37,
   "metadata": {},
   "outputs": [
    {
     "name": "stdout",
     "output_type": "stream",
     "text": [
      "Top users: 3466\n"
     ]
    }
   ],
   "source": [
    "print (\"Top users:\",len(df_users[\"user_id\"][df_users[\"game\"]>2].unique()))"
   ]
  },
  {
   "cell_type": "code",
   "execution_count": 38,
   "metadata": {},
   "outputs": [
    {
     "name": "stdout",
     "output_type": "stream",
     "text": [
      "Top users: 281\n"
     ]
    },
    {
     "name": "stderr",
     "output_type": "stream",
     "text": [
      "/Users/ebechter/miniconda3/lib/python3.6/site-packages/ipykernel_launcher.py:17: UserWarning: Boolean Series key will be reindexed to match DataFrame index.\n"
     ]
    }
   ],
   "source": [
    "user_games_dict = df[[\"user_id\",\"game\"]][df[\"activity\"]==\"play\"].groupby(\"user_id\", axis = 0).count().to_dict()\n",
    "#Once we got a dict from the entire dataframe, we create a new dict with only \"true gamers\"\n",
    "true_gamers_dict = {}\n",
    "for user in user_games_dict[\"game\"]:\n",
    "\tif user_games_dict[\"game\"][user]>50: #if he plays more than two games,\n",
    "\t\ttrue_gamers_dict[user] = user_games_dict[\"game\"][user] #he is a \"true gamer\"\n",
    "        \n",
    "#Let's def a function which will return 1 if user is \"true gamer\" and 0 if not.    \n",
    "def top_gamer (x):\n",
    "\tif x in true_gamers_dict:\n",
    "\t\treturn 1\n",
    "\telse:\n",
    "\t\treturn 0\n",
    "#Now, we create a new column on the dataframe, mapping user's id in order to take only \"true gamers\"    \n",
    "df[\"gamer\"] = df[\"user_id\"].map(lambda x: top_gamer(x))\n",
    "#Finally, we can work with our own dataframe\n",
    "df_gamers = df[df[\"gamer\"]==1][df[\"activity\"]==\"play\"]\n",
    "#And print the number of different users we have, just to be sure\n",
    "print (\"Top users:\",len(df_gamers[\"user_id\"].unique()))"
   ]
  },
  {
   "cell_type": "code",
   "execution_count": 39,
   "metadata": {},
   "outputs": [
    {
     "data": {
      "text/html": [
       "<div>\n",
       "<style scoped>\n",
       "    .dataframe tbody tr th:only-of-type {\n",
       "        vertical-align: middle;\n",
       "    }\n",
       "\n",
       "    .dataframe tbody tr th {\n",
       "        vertical-align: top;\n",
       "    }\n",
       "\n",
       "    .dataframe thead th {\n",
       "        text-align: right;\n",
       "    }\n",
       "</style>\n",
       "<table border=\"1\" class=\"dataframe\">\n",
       "  <thead>\n",
       "    <tr style=\"text-align: right;\">\n",
       "      <th></th>\n",
       "      <th>user_id</th>\n",
       "      <th>game</th>\n",
       "      <th>activity</th>\n",
       "      <th>hours</th>\n",
       "      <th>unkknown</th>\n",
       "      <th>gamer</th>\n",
       "    </tr>\n",
       "  </thead>\n",
       "  <tbody>\n",
       "    <tr>\n",
       "      <th>133</th>\n",
       "      <td>53875128</td>\n",
       "      <td>Grand Theft Auto V</td>\n",
       "      <td>play</td>\n",
       "      <td>86.0</td>\n",
       "      <td>0</td>\n",
       "      <td>1</td>\n",
       "    </tr>\n",
       "    <tr>\n",
       "      <th>135</th>\n",
       "      <td>53875128</td>\n",
       "      <td>Insurgency</td>\n",
       "      <td>play</td>\n",
       "      <td>72.0</td>\n",
       "      <td>0</td>\n",
       "      <td>1</td>\n",
       "    </tr>\n",
       "    <tr>\n",
       "      <th>137</th>\n",
       "      <td>53875128</td>\n",
       "      <td>Left 4 Dead 2</td>\n",
       "      <td>play</td>\n",
       "      <td>71.0</td>\n",
       "      <td>0</td>\n",
       "      <td>1</td>\n",
       "    </tr>\n",
       "    <tr>\n",
       "      <th>139</th>\n",
       "      <td>53875128</td>\n",
       "      <td>METAL GEAR SOLID V THE PHANTOM PAIN</td>\n",
       "      <td>play</td>\n",
       "      <td>59.0</td>\n",
       "      <td>0</td>\n",
       "      <td>1</td>\n",
       "    </tr>\n",
       "    <tr>\n",
       "      <th>141</th>\n",
       "      <td>53875128</td>\n",
       "      <td>S.T.A.L.K.E.R. Shadow of Chernobyl</td>\n",
       "      <td>play</td>\n",
       "      <td>54.0</td>\n",
       "      <td>0</td>\n",
       "      <td>1</td>\n",
       "    </tr>\n",
       "    <tr>\n",
       "      <th>143</th>\n",
       "      <td>53875128</td>\n",
       "      <td>S.T.A.L.K.E.R. Call of Pripyat</td>\n",
       "      <td>play</td>\n",
       "      <td>50.0</td>\n",
       "      <td>0</td>\n",
       "      <td>1</td>\n",
       "    </tr>\n",
       "    <tr>\n",
       "      <th>145</th>\n",
       "      <td>53875128</td>\n",
       "      <td>Saints Row The Third</td>\n",
       "      <td>play</td>\n",
       "      <td>35.0</td>\n",
       "      <td>0</td>\n",
       "      <td>1</td>\n",
       "    </tr>\n",
       "    <tr>\n",
       "      <th>147</th>\n",
       "      <td>53875128</td>\n",
       "      <td>Far Cry 3</td>\n",
       "      <td>play</td>\n",
       "      <td>35.0</td>\n",
       "      <td>0</td>\n",
       "      <td>1</td>\n",
       "    </tr>\n",
       "    <tr>\n",
       "      <th>149</th>\n",
       "      <td>53875128</td>\n",
       "      <td>S.T.A.L.K.E.R. Clear Sky</td>\n",
       "      <td>play</td>\n",
       "      <td>35.0</td>\n",
       "      <td>0</td>\n",
       "      <td>1</td>\n",
       "    </tr>\n",
       "    <tr>\n",
       "      <th>151</th>\n",
       "      <td>53875128</td>\n",
       "      <td>Rocket League</td>\n",
       "      <td>play</td>\n",
       "      <td>34.0</td>\n",
       "      <td>0</td>\n",
       "      <td>1</td>\n",
       "    </tr>\n",
       "  </tbody>\n",
       "</table>\n",
       "</div>"
      ],
      "text/plain": [
       "      user_id                                 game activity  hours  unkknown  \\\n",
       "133  53875128                   Grand Theft Auto V     play   86.0         0   \n",
       "135  53875128                           Insurgency     play   72.0         0   \n",
       "137  53875128                        Left 4 Dead 2     play   71.0         0   \n",
       "139  53875128  METAL GEAR SOLID V THE PHANTOM PAIN     play   59.0         0   \n",
       "141  53875128   S.T.A.L.K.E.R. Shadow of Chernobyl     play   54.0         0   \n",
       "143  53875128       S.T.A.L.K.E.R. Call of Pripyat     play   50.0         0   \n",
       "145  53875128                 Saints Row The Third     play   35.0         0   \n",
       "147  53875128                            Far Cry 3     play   35.0         0   \n",
       "149  53875128             S.T.A.L.K.E.R. Clear Sky     play   35.0         0   \n",
       "151  53875128                        Rocket League     play   34.0         0   \n",
       "\n",
       "     gamer  \n",
       "133      1  \n",
       "135      1  \n",
       "137      1  \n",
       "139      1  \n",
       "141      1  \n",
       "143      1  \n",
       "145      1  \n",
       "147      1  \n",
       "149      1  \n",
       "151      1  "
      ]
     },
     "execution_count": 39,
     "metadata": {},
     "output_type": "execute_result"
    }
   ],
   "source": [
    "df_gamers[:10]"
   ]
  },
  {
   "cell_type": "code",
   "execution_count": 40,
   "metadata": {},
   "outputs": [],
   "source": [
    "steam = df_gamers.drop(df_gamers[df_gamers.hours < 2].index)\n"
   ]
  },
  {
   "cell_type": "code",
   "execution_count": 41,
   "metadata": {},
   "outputs": [
    {
     "data": {
      "text/plain": [
       "(16980, 6)"
      ]
     },
     "execution_count": 41,
     "metadata": {},
     "output_type": "execute_result"
    }
   ],
   "source": [
    "steam.shape"
   ]
  },
  {
   "cell_type": "code",
   "execution_count": 42,
   "metadata": {},
   "outputs": [
    {
     "data": {
      "text/plain": [
       "(26552, 6)"
      ]
     },
     "execution_count": 42,
     "metadata": {},
     "output_type": "execute_result"
    }
   ],
   "source": [
    "df_gamers.shape"
   ]
  },
  {
   "cell_type": "code",
   "execution_count": 43,
   "metadata": {},
   "outputs": [],
   "source": [
    "steam = steam.drop(['activity'],axis=1)"
   ]
  },
  {
   "cell_type": "code",
   "execution_count": 44,
   "metadata": {},
   "outputs": [
    {
     "data": {
      "text/html": [
       "<div>\n",
       "<style scoped>\n",
       "    .dataframe tbody tr th:only-of-type {\n",
       "        vertical-align: middle;\n",
       "    }\n",
       "\n",
       "    .dataframe tbody tr th {\n",
       "        vertical-align: top;\n",
       "    }\n",
       "\n",
       "    .dataframe thead th {\n",
       "        text-align: right;\n",
       "    }\n",
       "</style>\n",
       "<table border=\"1\" class=\"dataframe\">\n",
       "  <thead>\n",
       "    <tr style=\"text-align: right;\">\n",
       "      <th></th>\n",
       "      <th>user_id</th>\n",
       "      <th>game</th>\n",
       "      <th>hours</th>\n",
       "      <th>unkknown</th>\n",
       "      <th>gamer</th>\n",
       "    </tr>\n",
       "  </thead>\n",
       "  <tbody>\n",
       "    <tr>\n",
       "      <th>133</th>\n",
       "      <td>53875128</td>\n",
       "      <td>Grand Theft Auto V</td>\n",
       "      <td>86.0</td>\n",
       "      <td>0</td>\n",
       "      <td>1</td>\n",
       "    </tr>\n",
       "    <tr>\n",
       "      <th>135</th>\n",
       "      <td>53875128</td>\n",
       "      <td>Insurgency</td>\n",
       "      <td>72.0</td>\n",
       "      <td>0</td>\n",
       "      <td>1</td>\n",
       "    </tr>\n",
       "    <tr>\n",
       "      <th>137</th>\n",
       "      <td>53875128</td>\n",
       "      <td>Left 4 Dead 2</td>\n",
       "      <td>71.0</td>\n",
       "      <td>0</td>\n",
       "      <td>1</td>\n",
       "    </tr>\n",
       "    <tr>\n",
       "      <th>139</th>\n",
       "      <td>53875128</td>\n",
       "      <td>METAL GEAR SOLID V THE PHANTOM PAIN</td>\n",
       "      <td>59.0</td>\n",
       "      <td>0</td>\n",
       "      <td>1</td>\n",
       "    </tr>\n",
       "    <tr>\n",
       "      <th>141</th>\n",
       "      <td>53875128</td>\n",
       "      <td>S.T.A.L.K.E.R. Shadow of Chernobyl</td>\n",
       "      <td>54.0</td>\n",
       "      <td>0</td>\n",
       "      <td>1</td>\n",
       "    </tr>\n",
       "  </tbody>\n",
       "</table>\n",
       "</div>"
      ],
      "text/plain": [
       "      user_id                                 game  hours  unkknown  gamer\n",
       "133  53875128                   Grand Theft Auto V   86.0         0      1\n",
       "135  53875128                           Insurgency   72.0         0      1\n",
       "137  53875128                        Left 4 Dead 2   71.0         0      1\n",
       "139  53875128  METAL GEAR SOLID V THE PHANTOM PAIN   59.0         0      1\n",
       "141  53875128   S.T.A.L.K.E.R. Shadow of Chernobyl   54.0         0      1"
      ]
     },
     "execution_count": 44,
     "metadata": {},
     "output_type": "execute_result"
    }
   ],
   "source": [
    "steam.head()"
   ]
  },
  {
   "cell_type": "code",
   "execution_count": 45,
   "metadata": {},
   "outputs": [],
   "source": [
    "steam = steam.drop(['unkknown'],axis=1)"
   ]
  },
  {
   "cell_type": "code",
   "execution_count": 46,
   "metadata": {},
   "outputs": [],
   "source": [
    "steam = steam.drop(['gamer'],axis=1)"
   ]
  },
  {
   "cell_type": "code",
   "execution_count": 47,
   "metadata": {},
   "outputs": [
    {
     "data": {
      "text/html": [
       "<div>\n",
       "<style scoped>\n",
       "    .dataframe tbody tr th:only-of-type {\n",
       "        vertical-align: middle;\n",
       "    }\n",
       "\n",
       "    .dataframe tbody tr th {\n",
       "        vertical-align: top;\n",
       "    }\n",
       "\n",
       "    .dataframe thead th {\n",
       "        text-align: right;\n",
       "    }\n",
       "</style>\n",
       "<table border=\"1\" class=\"dataframe\">\n",
       "  <thead>\n",
       "    <tr style=\"text-align: right;\">\n",
       "      <th></th>\n",
       "      <th>user_id</th>\n",
       "      <th>game</th>\n",
       "      <th>hours</th>\n",
       "    </tr>\n",
       "  </thead>\n",
       "  <tbody>\n",
       "    <tr>\n",
       "      <th>133</th>\n",
       "      <td>53875128</td>\n",
       "      <td>Grand Theft Auto V</td>\n",
       "      <td>86.0</td>\n",
       "    </tr>\n",
       "    <tr>\n",
       "      <th>135</th>\n",
       "      <td>53875128</td>\n",
       "      <td>Insurgency</td>\n",
       "      <td>72.0</td>\n",
       "    </tr>\n",
       "    <tr>\n",
       "      <th>137</th>\n",
       "      <td>53875128</td>\n",
       "      <td>Left 4 Dead 2</td>\n",
       "      <td>71.0</td>\n",
       "    </tr>\n",
       "    <tr>\n",
       "      <th>139</th>\n",
       "      <td>53875128</td>\n",
       "      <td>METAL GEAR SOLID V THE PHANTOM PAIN</td>\n",
       "      <td>59.0</td>\n",
       "    </tr>\n",
       "    <tr>\n",
       "      <th>141</th>\n",
       "      <td>53875128</td>\n",
       "      <td>S.T.A.L.K.E.R. Shadow of Chernobyl</td>\n",
       "      <td>54.0</td>\n",
       "    </tr>\n",
       "  </tbody>\n",
       "</table>\n",
       "</div>"
      ],
      "text/plain": [
       "      user_id                                 game  hours\n",
       "133  53875128                   Grand Theft Auto V   86.0\n",
       "135  53875128                           Insurgency   72.0\n",
       "137  53875128                        Left 4 Dead 2   71.0\n",
       "139  53875128  METAL GEAR SOLID V THE PHANTOM PAIN   59.0\n",
       "141  53875128   S.T.A.L.K.E.R. Shadow of Chernobyl   54.0"
      ]
     },
     "execution_count": 47,
     "metadata": {},
     "output_type": "execute_result"
    }
   ],
   "source": [
    "steam.head()"
   ]
  },
  {
   "cell_type": "code",
   "execution_count": 48,
   "metadata": {},
   "outputs": [],
   "source": [
    "user_item=steam.pivot_table(index='user_id',columns='game',values='hours')"
   ]
  },
  {
   "cell_type": "code",
   "execution_count": 49,
   "metadata": {},
   "outputs": [
    {
     "data": {
      "text/html": [
       "<div>\n",
       "<style scoped>\n",
       "    .dataframe tbody tr th:only-of-type {\n",
       "        vertical-align: middle;\n",
       "    }\n",
       "\n",
       "    .dataframe tbody tr th {\n",
       "        vertical-align: top;\n",
       "    }\n",
       "\n",
       "    .dataframe thead th {\n",
       "        text-align: right;\n",
       "    }\n",
       "</style>\n",
       "<table border=\"1\" class=\"dataframe\">\n",
       "  <thead>\n",
       "    <tr style=\"text-align: right;\">\n",
       "      <th>game</th>\n",
       "      <th>1... 2... 3... KICK IT! (Drop That Beat Like an Ugly Baby)</th>\n",
       "      <th>10 Second Ninja</th>\n",
       "      <th>10,000,000</th>\n",
       "      <th>100% Orange Juice</th>\n",
       "      <th>12 Labours of Hercules</th>\n",
       "      <th>12 Labours of Hercules II The Cretan Bull</th>\n",
       "      <th>12 Labours of Hercules III Girl Power</th>\n",
       "      <th>16bit Trader</th>\n",
       "      <th>18 Wheels of Steel American Long Haul</th>\n",
       "      <th>1953 NATO vs Warsaw Pact</th>\n",
       "      <th>...</th>\n",
       "      <th>bit Dungeon II</th>\n",
       "      <th>fault milestone one</th>\n",
       "      <th>iBomber Defense</th>\n",
       "      <th>iBomber Defense Pacific</th>\n",
       "      <th>ibb &amp; obb</th>\n",
       "      <th>liteCam Game 100 FPS Game Capture</th>\n",
       "      <th>realMyst Masterpiece Edition</th>\n",
       "      <th>resident evil 4 / biohazard 4</th>\n",
       "      <th>theHunter</th>\n",
       "      <th>theHunter Primal</th>\n",
       "    </tr>\n",
       "    <tr>\n",
       "      <th>user_id</th>\n",
       "      <th></th>\n",
       "      <th></th>\n",
       "      <th></th>\n",
       "      <th></th>\n",
       "      <th></th>\n",
       "      <th></th>\n",
       "      <th></th>\n",
       "      <th></th>\n",
       "      <th></th>\n",
       "      <th></th>\n",
       "      <th></th>\n",
       "      <th></th>\n",
       "      <th></th>\n",
       "      <th></th>\n",
       "      <th></th>\n",
       "      <th></th>\n",
       "      <th></th>\n",
       "      <th></th>\n",
       "      <th></th>\n",
       "      <th></th>\n",
       "      <th></th>\n",
       "    </tr>\n",
       "  </thead>\n",
       "  <tbody>\n",
       "    <tr>\n",
       "      <th>298950</th>\n",
       "      <td>NaN</td>\n",
       "      <td>NaN</td>\n",
       "      <td>NaN</td>\n",
       "      <td>NaN</td>\n",
       "      <td>NaN</td>\n",
       "      <td>NaN</td>\n",
       "      <td>NaN</td>\n",
       "      <td>NaN</td>\n",
       "      <td>NaN</td>\n",
       "      <td>NaN</td>\n",
       "      <td>...</td>\n",
       "      <td>NaN</td>\n",
       "      <td>NaN</td>\n",
       "      <td>NaN</td>\n",
       "      <td>NaN</td>\n",
       "      <td>NaN</td>\n",
       "      <td>NaN</td>\n",
       "      <td>NaN</td>\n",
       "      <td>NaN</td>\n",
       "      <td>NaN</td>\n",
       "      <td>NaN</td>\n",
       "    </tr>\n",
       "    <tr>\n",
       "      <th>561758</th>\n",
       "      <td>NaN</td>\n",
       "      <td>NaN</td>\n",
       "      <td>NaN</td>\n",
       "      <td>NaN</td>\n",
       "      <td>NaN</td>\n",
       "      <td>NaN</td>\n",
       "      <td>NaN</td>\n",
       "      <td>NaN</td>\n",
       "      <td>NaN</td>\n",
       "      <td>NaN</td>\n",
       "      <td>...</td>\n",
       "      <td>NaN</td>\n",
       "      <td>NaN</td>\n",
       "      <td>NaN</td>\n",
       "      <td>NaN</td>\n",
       "      <td>NaN</td>\n",
       "      <td>NaN</td>\n",
       "      <td>NaN</td>\n",
       "      <td>NaN</td>\n",
       "      <td>NaN</td>\n",
       "      <td>NaN</td>\n",
       "    </tr>\n",
       "    <tr>\n",
       "      <th>975449</th>\n",
       "      <td>NaN</td>\n",
       "      <td>NaN</td>\n",
       "      <td>NaN</td>\n",
       "      <td>NaN</td>\n",
       "      <td>NaN</td>\n",
       "      <td>NaN</td>\n",
       "      <td>NaN</td>\n",
       "      <td>NaN</td>\n",
       "      <td>NaN</td>\n",
       "      <td>NaN</td>\n",
       "      <td>...</td>\n",
       "      <td>NaN</td>\n",
       "      <td>NaN</td>\n",
       "      <td>NaN</td>\n",
       "      <td>NaN</td>\n",
       "      <td>NaN</td>\n",
       "      <td>NaN</td>\n",
       "      <td>NaN</td>\n",
       "      <td>NaN</td>\n",
       "      <td>NaN</td>\n",
       "      <td>NaN</td>\n",
       "    </tr>\n",
       "    <tr>\n",
       "      <th>1936551</th>\n",
       "      <td>NaN</td>\n",
       "      <td>NaN</td>\n",
       "      <td>NaN</td>\n",
       "      <td>NaN</td>\n",
       "      <td>NaN</td>\n",
       "      <td>NaN</td>\n",
       "      <td>NaN</td>\n",
       "      <td>NaN</td>\n",
       "      <td>NaN</td>\n",
       "      <td>NaN</td>\n",
       "      <td>...</td>\n",
       "      <td>NaN</td>\n",
       "      <td>NaN</td>\n",
       "      <td>NaN</td>\n",
       "      <td>NaN</td>\n",
       "      <td>NaN</td>\n",
       "      <td>NaN</td>\n",
       "      <td>NaN</td>\n",
       "      <td>NaN</td>\n",
       "      <td>NaN</td>\n",
       "      <td>NaN</td>\n",
       "    </tr>\n",
       "    <tr>\n",
       "      <th>2259650</th>\n",
       "      <td>NaN</td>\n",
       "      <td>NaN</td>\n",
       "      <td>NaN</td>\n",
       "      <td>NaN</td>\n",
       "      <td>NaN</td>\n",
       "      <td>NaN</td>\n",
       "      <td>NaN</td>\n",
       "      <td>NaN</td>\n",
       "      <td>NaN</td>\n",
       "      <td>NaN</td>\n",
       "      <td>...</td>\n",
       "      <td>NaN</td>\n",
       "      <td>NaN</td>\n",
       "      <td>NaN</td>\n",
       "      <td>NaN</td>\n",
       "      <td>NaN</td>\n",
       "      <td>NaN</td>\n",
       "      <td>NaN</td>\n",
       "      <td>NaN</td>\n",
       "      <td>NaN</td>\n",
       "      <td>NaN</td>\n",
       "    </tr>\n",
       "  </tbody>\n",
       "</table>\n",
       "<p>5 rows × 2267 columns</p>\n",
       "</div>"
      ],
      "text/plain": [
       "game     1... 2... 3... KICK IT! (Drop That Beat Like an Ugly Baby)  \\\n",
       "user_id                                                               \n",
       "298950                                                 NaN            \n",
       "561758                                                 NaN            \n",
       "975449                                                 NaN            \n",
       "1936551                                                NaN            \n",
       "2259650                                                NaN            \n",
       "\n",
       "game     10 Second Ninja  10,000,000  100% Orange Juice  \\\n",
       "user_id                                                   \n",
       "298950               NaN         NaN                NaN   \n",
       "561758               NaN         NaN                NaN   \n",
       "975449               NaN         NaN                NaN   \n",
       "1936551              NaN         NaN                NaN   \n",
       "2259650              NaN         NaN                NaN   \n",
       "\n",
       "game     12 Labours of Hercules  12 Labours of Hercules II The Cretan Bull  \\\n",
       "user_id                                                                      \n",
       "298950                      NaN                                        NaN   \n",
       "561758                      NaN                                        NaN   \n",
       "975449                      NaN                                        NaN   \n",
       "1936551                     NaN                                        NaN   \n",
       "2259650                     NaN                                        NaN   \n",
       "\n",
       "game     12 Labours of Hercules III Girl Power  16bit Trader  \\\n",
       "user_id                                                        \n",
       "298950                                     NaN           NaN   \n",
       "561758                                     NaN           NaN   \n",
       "975449                                     NaN           NaN   \n",
       "1936551                                    NaN           NaN   \n",
       "2259650                                    NaN           NaN   \n",
       "\n",
       "game     18 Wheels of Steel American Long Haul  1953 NATO vs Warsaw Pact  \\\n",
       "user_id                                                                    \n",
       "298950                                     NaN                       NaN   \n",
       "561758                                     NaN                       NaN   \n",
       "975449                                     NaN                       NaN   \n",
       "1936551                                    NaN                       NaN   \n",
       "2259650                                    NaN                       NaN   \n",
       "\n",
       "game           ...         bit Dungeon II  fault milestone one  \\\n",
       "user_id        ...                                               \n",
       "298950         ...                    NaN                  NaN   \n",
       "561758         ...                    NaN                  NaN   \n",
       "975449         ...                    NaN                  NaN   \n",
       "1936551        ...                    NaN                  NaN   \n",
       "2259650        ...                    NaN                  NaN   \n",
       "\n",
       "game     iBomber Defense  iBomber Defense Pacific  ibb & obb  \\\n",
       "user_id                                                        \n",
       "298950               NaN                      NaN        NaN   \n",
       "561758               NaN                      NaN        NaN   \n",
       "975449               NaN                      NaN        NaN   \n",
       "1936551              NaN                      NaN        NaN   \n",
       "2259650              NaN                      NaN        NaN   \n",
       "\n",
       "game     liteCam Game 100 FPS Game Capture  realMyst Masterpiece Edition  \\\n",
       "user_id                                                                    \n",
       "298950                                 NaN                           NaN   \n",
       "561758                                 NaN                           NaN   \n",
       "975449                                 NaN                           NaN   \n",
       "1936551                                NaN                           NaN   \n",
       "2259650                                NaN                           NaN   \n",
       "\n",
       "game     resident evil 4 / biohazard 4  theHunter  theHunter Primal  \n",
       "user_id                                                              \n",
       "298950                             NaN        NaN               NaN  \n",
       "561758                             NaN        NaN               NaN  \n",
       "975449                             NaN        NaN               NaN  \n",
       "1936551                            NaN        NaN               NaN  \n",
       "2259650                            NaN        NaN               NaN  \n",
       "\n",
       "[5 rows x 2267 columns]"
      ]
     },
     "execution_count": 49,
     "metadata": {},
     "output_type": "execute_result"
    }
   ],
   "source": [
    "user_item.head()"
   ]
  },
  {
   "cell_type": "code",
   "execution_count": 50,
   "metadata": {},
   "outputs": [],
   "source": [
    "n_gamers = steam.user_id.unique().shape[0]"
   ]
  },
  {
   "cell_type": "code",
   "execution_count": 51,
   "metadata": {},
   "outputs": [
    {
     "data": {
      "text/plain": [
       "281"
      ]
     },
     "execution_count": 51,
     "metadata": {},
     "output_type": "execute_result"
    }
   ],
   "source": [
    "n_gamers"
   ]
  },
  {
   "cell_type": "code",
   "execution_count": 52,
   "metadata": {},
   "outputs": [],
   "source": [
    "n_games = steam.game.unique().shape[0]"
   ]
  },
  {
   "cell_type": "code",
   "execution_count": 53,
   "metadata": {},
   "outputs": [
    {
     "data": {
      "text/plain": [
       "2267"
      ]
     },
     "execution_count": 53,
     "metadata": {},
     "output_type": "execute_result"
    }
   ],
   "source": [
    "n_games"
   ]
  },
  {
   "cell_type": "code",
   "execution_count": 54,
   "metadata": {},
   "outputs": [
    {
     "name": "stdout",
     "output_type": "stream",
     "text": [
      "Number of Users =281 | Number of games 2267\n"
     ]
    }
   ],
   "source": [
    "print('Number of Users =' + str(n_gamers) + ' | Number of games ' + str(n_games))"
   ]
  },
  {
   "cell_type": "code",
   "execution_count": 55,
   "metadata": {},
   "outputs": [
    {
     "data": {
      "text/plain": [
       "user_id\n",
       "298950        95\n",
       "561758        51\n",
       "975449       100\n",
       "1936551       55\n",
       "2259650       41\n",
       "2753525       44\n",
       "3449240       34\n",
       "7907686       30\n",
       "8259307       11\n",
       "8585433       91\n",
       "9128105      107\n",
       "9823354       95\n",
       "10253354      97\n",
       "10450544      42\n",
       "10599862     146\n",
       "11149819      61\n",
       "11161178      49\n",
       "11373749     156\n",
       "11403772     190\n",
       "11731710      43\n",
       "11794760      29\n",
       "11940338      39\n",
       "11970504      46\n",
       "12144171      41\n",
       "12610800      72\n",
       "13190476      91\n",
       "13565651      58\n",
       "14465359      79\n",
       "14544587      42\n",
       "15196746      65\n",
       "            ... \n",
       "131940023     38\n",
       "132300630     61\n",
       "132748085     30\n",
       "134322141     53\n",
       "135400225     92\n",
       "136135322     52\n",
       "138941587    253\n",
       "147602462     46\n",
       "148362155     51\n",
       "150033540     56\n",
       "152419713     34\n",
       "152959594     54\n",
       "154230723     28\n",
       "155673786     31\n",
       "155919035    109\n",
       "156565178     42\n",
       "156675178     37\n",
       "159800136     55\n",
       "162288536     41\n",
       "163432200     44\n",
       "165216496     31\n",
       "165755355     35\n",
       "166669789     35\n",
       "171067153     41\n",
       "172518437     43\n",
       "180901075     32\n",
       "182399789     36\n",
       "187463594     55\n",
       "198735293     39\n",
       "243664576     23\n",
       "Length: 281, dtype: int64"
      ]
     },
     "execution_count": 55,
     "metadata": {},
     "output_type": "execute_result"
    }
   ],
   "source": [
    "user_item.count(axis=1)"
   ]
  },
  {
   "cell_type": "code",
   "execution_count": 56,
   "metadata": {},
   "outputs": [],
   "source": [
    "user_item=user_item.fillna(0)"
   ]
  },
  {
   "cell_type": "code",
   "execution_count": 57,
   "metadata": {},
   "outputs": [
    {
     "name": "stdout",
     "output_type": "stream",
     "text": [
      "The sparsity level of Steam200K is 100.0%\n"
     ]
    }
   ],
   "source": [
    "sparsity= round(1.0-len(user_item)/float(n_gamers*n_games),3)\n",
    "print('The sparsity level of Steam200K is ' +  str(sparsity*100) + '%')"
   ]
  },
  {
   "cell_type": "code",
   "execution_count": 58,
   "metadata": {},
   "outputs": [],
   "source": [
    "from sklearn.metrics import mean_squared_error\n",
    "from math import sqrt\n",
    "def rmse(prediction, ground_truth):\n",
    "    prediction = prediction[ground_truth.nonzero()].flatten()\n",
    "    ground_truth = ground_truth[ground_truth.nonzero()].flatten()\n",
    "    return sqrt(mean_squared_error(prediction, ground_truth))"
   ]
  },
  {
   "cell_type": "code",
   "execution_count": 68,
   "metadata": {},
   "outputs": [],
   "source": [
    "from sklearn import cross_validation as cv\n",
    "user_item_matrix = np.log(user_item.replace(0, np.nan))\n",
    "user_item_matrix = user_item_matrix.fillna(0)\n",
    "train_data, test_data = cv.train_test_split(user_item_matrix.values, test_size=0.25)\n"
   ]
  },
  {
   "cell_type": "code",
   "execution_count": 76,
   "metadata": {},
   "outputs": [
    {
     "name": "stdout",
     "output_type": "stream",
     "text": [
      "User-based CF MSE: 2.628381059979091\n"
     ]
    }
   ],
   "source": [
    "import scipy.sparse as sp\n",
    "from scipy.sparse.linalg import svds\n",
    "\n",
    "#get SVD components from train matrix. Choose k.\n",
    "u, s, vt = svds(train_data,k=20)\n",
    "s_diag_matrix=np.diag(s)\n",
    "X_pred = np.dot(np.dot(u, s_diag_matrix), vt)\n",
    "print('User-based CF MSE: ' + str(rmse(X_pred, test_data)))"
   ]
  },
  {
   "cell_type": "code",
   "execution_count": null,
   "metadata": {},
   "outputs": [],
   "source": [
    "bootstrap flask.. "
   ]
  },
  {
   "cell_type": "code",
   "execution_count": null,
   "metadata": {},
   "outputs": [],
   "source": [
    "\n",
    "\n"
   ]
  }
 ],
 "metadata": {
  "kernelspec": {
   "display_name": "Python 3",
   "language": "python",
   "name": "python3"
  },
  "language_info": {
   "codemirror_mode": {
    "name": "ipython",
    "version": 3
   },
   "file_extension": ".py",
   "mimetype": "text/x-python",
   "name": "python",
   "nbconvert_exporter": "python",
   "pygments_lexer": "ipython3",
   "version": "3.6.5"
  }
 },
 "nbformat": 4,
 "nbformat_minor": 2
}
